{
 "cells": [
  {
   "cell_type": "code",
   "execution_count": 1,
   "metadata": {},
   "outputs": [],
   "source": [
    "#pip install dlib\n",
    "#dlib library is used in detecting face basically it is amechine learning library "
   ]
  },
  {
   "cell_type": "code",
   "execution_count": 2,
   "metadata": {},
   "outputs": [],
   "source": [
    "#pip install opencv-python\n",
    "#it is a computer vision library"
   ]
  },
  {
   "cell_type": "code",
   "execution_count": 3,
   "metadata": {},
   "outputs": [],
   "source": [
    "#pip install pillow"
   ]
  },
  {
   "cell_type": "markdown",
   "metadata": {},
   "source": [
    "first install dlib\n",
    "second install opencv"
   ]
  },
  {
   "cell_type": "code",
   "execution_count": 4,
   "metadata": {},
   "outputs": [],
   "source": [
    "import numpy as np\n",
    "import cv2\n",
    "import dlib\n",
    "\n",
    "\n"
   ]
  },
  {
   "cell_type": "markdown",
   "metadata": {},
   "source": [
    "this is actual code"
   ]
  },
  {
   "cell_type": "code",
   "execution_count": 6,
   "metadata": {},
   "outputs": [],
   "source": [
    "\n",
    "\n",
    "# Initialize the video capture using the default camera (0)\n",
    "cap = cv2.VideoCapture(0)\n",
    "\n",
    "# Create a face detector object\n",
    "face_detector = dlib.get_frontal_face_detector()\n",
    "\n",
    "# Capture frames continuously\n",
    "while True:\n",
    "    ret, frame = cap.read()\n",
    "    frame = cv2.flip(frame, 1)  # Flip the frame horizontally for a natural view\n",
    "\n",
    "    # Convert the frame to grayscale for face detection\n",
    "    gray = cv2.cvtColor(frame, cv2.COLOR_BGR2GRAY)\n",
    "\n",
    "    # Detect faces in the grayscale frame\n",
    "    faces = face_detector(gray)\n",
    "\n",
    "    # Iterate through all the detected faces and draw rectangles\n",
    "    i = 0\n",
    "    for face in faces:\n",
    "        x, y, x1, y1 = face.left(), face.top(), face.right(), face.bottom()\n",
    "        # Draw a rectangle around the face\n",
    "        cv2.rectangle(frame, (x, y), (x1, y1), (0, 255, 0), 2)\n",
    "        i += 1\n",
    "       \n",
    "        cv2.putText(frame, \"Face \" + str(i), (x - 10, y - 10), cv2.FONT_HERSHEY_SIMPLEX, 0.7, (0, 0, 255), 2)\n",
    "\n",
    "    cv2.imshow('saquib', frame)\n",
    "\n",
    "    # Check for a key press to exit the loop (waitKey returns the key code)\n",
    "    if cv2.waitKey(1) & 0xFF == ord('q'):\n",
    "        break\n",
    "\n",
    "# Release the video capture and close all OpenCV windows\n",
    "cap.release()\n",
    "cv2.destroyAllWindows()\n",
    "\n"
   ]
  },
  {
   "cell_type": "markdown",
   "metadata": {},
   "source": [
    "here is another code with some gui"
   ]
  },
  {
   "cell_type": "markdown",
   "metadata": {},
   "source": [
    "import cv2\n",
    "import dlib\n",
    "import tkinter as tk\n",
    "from tkinter import ttk\n",
    "from PIL import Image, ImageTk\n",
    "\n",
    "class FaceDetectionApp:\n",
    "    def __init__(self, root):\n",
    "        self.root = root\n",
    "        self.root.title(\"Face Detection App\")\n",
    "        #background image\n",
    "        self.root.geometry(\"800x800\")\n",
    "        \n",
    "\n",
    "        # Video capture initialization\n",
    "        self.cap = cv2.VideoCapture(0)\n",
    "\n",
    "        # Face detector initialization\n",
    "        self.face_detector = dlib.get_frontal_face_detector()\n",
    "\n",
    "        # Create a canvas to display video frames\n",
    "        self.canvas = tk.Canvas(root)\n",
    "        self.canvas.pack()\n",
    "\n",
    "        # Start button\n",
    "        self.start_button = ttk.Button(root, text=\"Start Face Detection\", command=self.start_detection)\n",
    "        self.start_button.pack()\n",
    "\n",
    "        # Quit button\n",
    "        self.quit_button = ttk.Button(root, text=\"Quit\", command=self.quit_application)\n",
    "        self.quit_button.pack()\n",
    "\n",
    "        # Initialize variables\n",
    "        self.i = 0\n",
    "        self.video_loop()\n",
    "\n",
    "    def start_detection(self):\n",
    "        # Start or stop face detection based on button click\n",
    "        if self.start_button[\"text\"] == \"Start Face Detection\":\n",
    "            self.start_button[\"text\"] = \"Stop Face Detection\"\n",
    "            self.video_loop()\n",
    "        else:\n",
    "            self.start_button[\"text\"] = \"Start Face Detection\"\n",
    "\n",
    "    def quit_application(self):\n",
    "        # Release video capture and close all windows\n",
    "        self.cap.release()\n",
    "        cv2.destroyAllWindows()\n",
    "        self.root.quit()\n",
    "\n",
    "    def video_loop(self):\n",
    "        ret, frame = self.cap.read()\n",
    "        frame = cv2.flip(frame, 1)\n",
    "        self.i = 0\n",
    "        gray = cv2.cvtColor(frame, cv2.COLOR_BGR2GRAY)\n",
    "        faces = self.face_detector(gray)\n",
    "\n",
    "        for face in faces:\n",
    "            x, y, x1, y1 = face.left(), face.top(), face.right(), face.bottom()\n",
    "            cv2.rectangle(frame, (x, y), (x1, y1), (0, 255, 0), 2)\n",
    "            self.i += 1\n",
    "            #print(self.i)\n",
    "            cv2.putText(frame, \"Face \" + str(self.i), (x - 10, y - 10), cv2.FONT_HERSHEY_SIMPLEX, 0.7, (0, 0, 255), 2)\n",
    "\n",
    "        # Convert the frame to RGB for displaying with Tkinter\n",
    "        rgb_frame = cv2.cvtColor(frame, cv2.COLOR_BGR2RGB)\n",
    "        img = Image.fromarray(rgb_frame)\n",
    "        img = ImageTk.PhotoImage(image=img)\n",
    "\n",
    "        # Update the canvas with the new frame\n",
    "        self.canvas.config(width=img.width(), height=img.height())\n",
    "        self.canvas.create_image(0, 0, anchor=tk.NW, image=img)\n",
    "        self.canvas.image = img\n",
    "\n",
    "        # Check if the user pressed 'q' to exit\n",
    "        if self.start_button[\"text\"] == \"Stop Face Detection\":\n",
    "            self.root.after(10, self.video_loop)\n",
    "\n",
    "if __name__ == \"__main__\":\n",
    "    root = tk.Tk()\n",
    "    app = FaceDetectionApp(root)\n",
    "    root.mainloop()\n"
   ]
  }
 ],
 "metadata": {
  "kernelspec": {
   "display_name": "Python 3",
   "language": "python",
   "name": "python3"
  },
  "language_info": {
   "codemirror_mode": {
    "name": "ipython",
    "version": 3
   },
   "file_extension": ".py",
   "mimetype": "text/x-python",
   "name": "python",
   "nbconvert_exporter": "python",
   "pygments_lexer": "ipython3",
   "version": "3.11.5"
  }
 },
 "nbformat": 4,
 "nbformat_minor": 2
}
